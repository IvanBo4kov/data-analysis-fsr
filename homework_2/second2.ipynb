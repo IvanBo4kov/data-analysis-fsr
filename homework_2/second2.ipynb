{
 "cells": [
  {
   "cell_type": "code",
   "execution_count": 3,
   "id": "7ac87a71",
   "metadata": {},
   "outputs": [],
   "source": [
    "import numpy as np\n",
    "import scipy.stats as st\n",
    "import matplotlib.pyplot as plt\n",
    "from scipy.stats import ttest_ind, ks_2samp, kruskal, anderson_ksamp"
   ]
  },
  {
   "cell_type": "markdown",
   "id": "838d23ed",
   "metadata": {},
   "source": [
    "### 1) Генерируйте выборки объема 𝑛 = 50 из 𝒩 (0, 1) (первую) и 𝒩 (0, 1) (вторую). Проверьте их однород- ность 𝑡–критерием Стьюдента против двусторонней гипотезы. Теперь то же для выборок из 𝒩 (0, 1) и 𝒩 (0.2, 2). Теперь то же для выборок из 𝑅[0, 1] (первую) и 𝑅[0, 1.1] (вторую)."
   ]
  },
  {
   "cell_type": "code",
   "execution_count": 4,
   "id": "fff9d0df",
   "metadata": {},
   "outputs": [
    {
     "name": "stdout",
     "output_type": "stream",
     "text": [
      "Не отвергаем гипотезу 0.9286574812571697 > 0.05\n",
      "Не отвергаем гипотезу 0.8017774893501234 > 0.05\n",
      "Не отвергаем гипотезу 0.2674670914453533 > 0.05\n"
     ]
    }
   ],
   "source": [
    "# Просто применяем критерий Стьюдента, который сравнивает мат ожидания\n",
    "# И смотрим на p-value\n",
    "# Если оно достаточно большое, то принимаем гипотезу\n",
    "# Но это не очень наглядно\n",
    "\n",
    "alpha = 0.05\n",
    "\n",
    "x1 = np.random.normal(0, 1, 50)\n",
    "x2 = np.random.normal(0, 1, 50)\n",
    "\n",
    "x3 = np.random.normal(0.2, 1, 50)\n",
    "\n",
    "x4 = np.random.uniform(0, 1, 50)\n",
    "x5 = np.random.uniform(0, 1.1, 50)\n",
    "\n",
    "res1 = ttest_ind(x1, x2)\n",
    "res2 = ttest_ind(x1, x3)\n",
    "res3 = ttest_ind(x4, x5)\n",
    "\n",
    "if res1[1] > alpha:\n",
    "    print(f\"Не отвергаем гипотезу {res1[1]} > {alpha}\")\n",
    "else:\n",
    "    print(f\"Отвергаем гипотезу {res1[1]} < {alpha}\")\n",
    "    \n",
    "if res2[1] > alpha:\n",
    "    print(f\"Не отвергаем гипотезу {res2[1]} > {alpha}\")\n",
    "else:\n",
    "    print(f\"Отвергаем гипотезу {res2[1]} < {alpha}\")\n",
    "    \n",
    "if res3[1] > alpha:\n",
    "    print(f\"Не отвергаем гипотезу {res3[1]} > {alpha}\")\n",
    "else:\n",
    "    print(f\"Отвергаем гипотезу {res3[1]} < {alpha}\")"
   ]
  },
  {
   "cell_type": "code",
   "execution_count": 5,
   "id": "ddb6766d",
   "metadata": {},
   "outputs": [],
   "source": [
    "# Также для наглядности можно простроить гистограмму p_value\n",
    "# Если получается что-то равномерное, то НЕ отвергаем нулевую гипотезу\n",
    "\n",
    "pvalues_1 = []\n",
    "pvalues_2 = []\n",
    "pvalues_3 = []\n",
    "\n",
    "for i in range(10000):\n",
    "    x1 = np.random.normal(0, 1, 50)\n",
    "    x2 = np.random.normal(0, 1, 50)\n",
    "    \n",
    "    x3 = np.random.normal(0.2, 1, 50)\n",
    "    \n",
    "    x4 = np.random.uniform(0, 1, 50)\n",
    "    x5 = np.random.uniform(0, 1.1, 50)\n",
    "    \n",
    "    pvalues_1.append(ttest_ind(x1, x2)[1])\n",
    "    pvalues_2.append(ttest_ind(x1, x3)[1])\n",
    "    pvalues_3.append(ttest_ind(x4, x5)[1])"
   ]
  },
  {
   "cell_type": "code",
   "execution_count": 6,
   "id": "690d724c",
   "metadata": {},
   "outputs": [
    {
     "data": {
      "image/png": "[encoded data removed]",
      "text/plain": [
       "<Figure size 432x288 with 1 Axes>"
      ]
     },
     "metadata": {
      "needs_background": "light"
     },
     "output_type": "display_data"
    }
   ],
   "source": [
    "plt.hist(pvalues_1, alpha = 0.5)\n",
    "plt.show()"
   ]
  },
  {
   "cell_type": "code",
   "execution_count": 7,
   "id": "19e13c64",
   "metadata": {},
   "outputs": [
    {
     "data": {
      "image/png": "[encoded data removed]",
      "text/plain": [
       "<Figure size 432x288 with 1 Axes>"
      ]
     },
     "metadata": {
      "needs_background": "light"
     },
     "output_type": "display_data"
    }
   ],
   "source": [
    "plt.hist(pvalues_2, alpha = 0.5)\n",
    "plt.show()"
   ]
  },
  {
   "cell_type": "code",
   "execution_count": 8,
   "id": "f23cff26",
   "metadata": {},
   "outputs": [
    {
     "data": {
      "image/png": "[encoded data removed]",
      "text/plain": [
       "<Figure size 432x288 with 1 Axes>"
      ]
     },
     "metadata": {
      "needs_background": "light"
     },
     "output_type": "display_data"
    }
   ],
   "source": [
    "plt.hist(pvalues_3, alpha = 0.5)\n",
    "plt.show()"
   ]
  },
  {
   "cell_type": "markdown",
   "id": "71a2e652",
   "metadata": {},
   "source": [
    "### 2. Генерируйте выборки объема 𝑛 = 50 из 𝒩(0,1) (первую) и 𝒩(0,1) (вторую). Проверьте их од- нородность критерием Баумгартнера–Вейсса–Шиндлера. Теперь то же для выборок из 𝒩(0,1) и 𝒩 (0.2, 2). Теперь то же для выборок из 𝑅[0, 1] (первую) и 𝑅[0, 1.1] (вторую)."
   ]
  },
  {
   "cell_type": "code",
   "execution_count": 9,
   "id": "20ae7063",
   "metadata": {},
   "outputs": [],
   "source": [
    "def get_ranks(merged_lst, lst):\n",
    "    indices = []\n",
    "    \n",
    "    for i in range(len(merged_lst)):\n",
    "        if merged_lst[i] in lst:\n",
    "            indices.append(i)\n",
    "            \n",
    "    return indices"
   ]
  },
  {
   "cell_type": "code",
   "execution_count": 10,
   "id": "c77a4dd9",
   "metadata": {},
   "outputs": [],
   "source": [
    "def get_B(sample1, sample2):\n",
    "    merged_sample = []\n",
    "    \n",
    "    # Смешиваем выборку\n",
    "    for element in sample1:\n",
    "        merged_sample.append(element)\n",
    "        \n",
    "    for element in sample2:\n",
    "        merged_sample.append(element)\n",
    "    \n",
    "    # Делаем вариационный ряд (сортируем)\n",
    "    merged_sample.sort()\n",
    "    \n",
    "    # Получаем ранги (индексы вхождения элементов первой выборки в общей и наоборот)\n",
    "    R = get_ranks(merged_sample, sample2)  # индексы второй выборки\n",
    "    S = get_ranks(merged_sample, sample1)  # индексы первой выборки\n",
    "    \n",
    "    n = len(sample1)\n",
    "    m = len(sample2)\n",
    "\n",
    "    i = list(range(1, n + 1))\n",
    "    j = list(range(1, m + 1))\n",
    "\n",
    "    Bx = 1/n * np.sum((np.power(S - (n+m)*np.arange(1, n+1)/n, 2))/(np.arange(1, n+1)/(n+1) * (1 - np.arange(1, n+1)/(n+1)) * m*(n+m)/n))\n",
    "    By = 1/m * np.sum((np.power(R - (n+m)*np.arange(1, m+1)/m, 2))/(np.arange(1, m+1)/(m+1) * (1 - np.arange(1, m+1)/(m+1)) * n*(n+m)/m))\n",
    "\n",
    "    B = (Bx + By)/2\n",
    "    \n",
    "    return B"
   ]
  },
  {
   "cell_type": "code",
   "execution_count": 11,
   "id": "7a77c688",
   "metadata": {},
   "outputs": [
    {
     "name": "stdout",
     "output_type": "stream",
     "text": [
      "1.0706171931515158\n",
      "81.17755272992713\n"
     ]
    }
   ],
   "source": [
    "# Видно, что при одинаковых распределениях маленький B, при разных больше\n",
    "\n",
    "norm1 = np.random.normal(0, 1, 50)\n",
    "norm2 = np.random.normal(0, 1, 50)\n",
    "unif = np.random.uniform(1, 10, 50)\n",
    "\n",
    "print(get_B(norm1, norm2))\n",
    "print(get_B(norm1, unif))"
   ]
  },
  {
   "cell_type": "markdown",
   "id": "12cf7614",
   "metadata": {},
   "source": [
    "### 3) Генерируйте выборки объема 𝑛 = 50 из 𝒩 (0, 1) (первую) и 𝒩 (0, 1) (вторую). Проверьте их однород- ность критерием Колмогорова–Смирнова. Теперь то же для выборок из 𝒩 (0, 1) и 𝒩 (0.2, 2). Теперь то же для выборок из 𝑅[0, 1] (первую) и 𝑅[0, 1.1] (вторую)"
   ]
  },
  {
   "cell_type": "code",
   "execution_count": 12,
   "id": "962c7a01",
   "metadata": {},
   "outputs": [
    {
     "name": "stdout",
     "output_type": "stream",
     "text": [
      "0.02170784069014051\n",
      "0.039194586195352224\n",
      "0.8692618870414056\n"
     ]
    }
   ],
   "source": [
    "# тут то же самое что и в задании 1, но решил что графики сюда не буду добавлять\n",
    "# но делаются они аналогично\n",
    "\n",
    "alpha = 0.05\n",
    "\n",
    "x1 = np.random.normal(0, 1, 50)\n",
    "x2 = np.random.normal(0, 1, 50)\n",
    "\n",
    "x3 = np.random.normal(0.2, 2, 50)\n",
    "\n",
    "x4 = np.random.uniform(0,1,50)\n",
    "x5 = np.random.uniform(0,1.1,50)\n",
    "\n",
    "p_value1 = ks_2samp(x1, x2)[1]\n",
    "p_value2 = ks_2samp(x1, x3)[1]\n",
    "p_value3 = ks_2samp(x4, x5)[1]\n",
    "\n",
    "print(p_value1)\n",
    "print(p_value2)\n",
    "print(p_value3)"
   ]
  },
  {
   "cell_type": "markdown",
   "id": "5e592ecb",
   "metadata": {},
   "source": [
    "### 4. Генерируйте пять выборок из 𝐿𝑎𝑝𝑙𝑎𝑐𝑒(0, 1) объема 100. Исследуйте их на равенство средних методом Краскера–Уоллиса. Проделайте то же для пяти выборок, где первые четыре из 𝐿𝑎𝑝𝑙𝑎𝑐𝑒(0,1), а пятая из 𝐿𝑎𝑝𝑙𝑎𝑐𝑒(0.5,1). Теперь для пяти выборок из 𝐿𝑎𝑝𝑙𝑎𝑐𝑒(𝑖/10,1), 𝑖 = 1,...,5. И наконец, для пяти выборок, где первые четыре из 𝐿𝑎𝑝𝑙𝑎𝑐𝑒(0, 1), а пятая из 𝐿𝑎𝑝𝑙𝑎𝑐𝑒(0.5, 2)"
   ]
  },
  {
   "cell_type": "code",
   "execution_count": 13,
   "id": "11265011",
   "metadata": {},
   "outputs": [
    {
     "name": "stdout",
     "output_type": "stream",
     "text": [
      "1: 0.3497145158005339\n",
      "\n",
      "2: 0.019675859736575638\n",
      "\n",
      "3: 0.2575046800366113\n",
      "\n",
      "4: 0.16293875632047483\n"
     ]
    }
   ],
   "source": [
    "# Такое же задание как и 1, только проверяем множество выборок на однородность\n",
    "# Соответственно с помощью другого критерия\n",
    "# При желании можно и сделать графики p-value для наглядности\n",
    "\n",
    "from scipy.stats import kruskal\n",
    "\n",
    "x1 = np.random.laplace(0, 1, 100)\n",
    "x2 = np.random.laplace(0, 1, 100)\n",
    "x3 = np.random.laplace(0, 1, 100)\n",
    "x4 = np.random.laplace(0, 1, 100)\n",
    "x5 = np.random.laplace(0, 1, 100)\n",
    "\n",
    "y1 = np.random.laplace(0.1, 1, 100)\n",
    "y2 = np.random.laplace(0.2, 1, 100)\n",
    "y3 = np.random.laplace(0.3, 1, 100)\n",
    "y4 = np.random.laplace(0.4, 1, 100)\n",
    "y5 = np.random.laplace(0.5, 1, 100)\n",
    "\n",
    "x6 = np.random.laplace(0.5, 1, 100)\n",
    "x7 = np.random.laplace(0.5, 2, 100)\n",
    "\n",
    "p_value1 = kruskal(x1, x2, x3, x4, x5)[1]\n",
    "print('1:', p_value1)\n",
    "print()\n",
    "\n",
    "p_value2 = kruskal(x1, x2, x3, x4, x6)[1]\n",
    "print('2:', p_value2)\n",
    "print()\n",
    "\n",
    "p_value3 = kruskal(y1, y2, y3, y4, y5)[1]\n",
    "print('3:', p_value3)\n",
    "print()\n",
    "\n",
    "p_value4 = kruskal(x1, x2, x3, x4, x7)[1]\n",
    "print('4:', p_value4)"
   ]
  },
  {
   "cell_type": "markdown",
   "id": "ceb39521",
   "metadata": {},
   "source": [
    "### 6. В файле Pottery.txt содержится информация о содержании химических элементов в изделиях трех различных культур. Исследовать выборки а) на однородность б) на равенство средних. Произвести покомпонентный визуальный анализ."
   ]
  },
  {
   "cell_type": "code",
   "execution_count": 14,
   "id": "83d368ee",
   "metadata": {},
   "outputs": [
    {
     "data": {
      "text/html": [
       "<div>\n",
       "<style scoped>\n",
       "    .dataframe tbody tr th:only-of-type {\n",
       "        vertical-align: middle;\n",
       "    }\n",
       "\n",
       "    .dataframe tbody tr th {\n",
       "        vertical-align: top;\n",
       "    }\n",
       "\n",
       "    .dataframe thead th {\n",
       "        text-align: right;\n",
       "    }\n",
       "</style>\n",
       "<table border=\"1\" class=\"dataframe\">\n",
       "  <thead>\n",
       "    <tr style=\"text-align: right;\">\n",
       "      <th></th>\n",
       "      <th>Site</th>\n",
       "      <th>Al</th>\n",
       "      <th>Fe</th>\n",
       "      <th>Mg</th>\n",
       "      <th>Ca</th>\n",
       "      <th>Na</th>\n",
       "    </tr>\n",
       "  </thead>\n",
       "  <tbody>\n",
       "    <tr>\n",
       "      <th>0</th>\n",
       "      <td>Llanedyrn</td>\n",
       "      <td>14.4</td>\n",
       "      <td>7.00</td>\n",
       "      <td>4.30</td>\n",
       "      <td>0.15</td>\n",
       "      <td>0.51</td>\n",
       "    </tr>\n",
       "    <tr>\n",
       "      <th>1</th>\n",
       "      <td>Llanedyrn</td>\n",
       "      <td>13.8</td>\n",
       "      <td>7.08</td>\n",
       "      <td>3.43</td>\n",
       "      <td>0.12</td>\n",
       "      <td>0.17</td>\n",
       "    </tr>\n",
       "    <tr>\n",
       "      <th>2</th>\n",
       "      <td>Llanedyrn</td>\n",
       "      <td>14.6</td>\n",
       "      <td>7.09</td>\n",
       "      <td>3.88</td>\n",
       "      <td>0.13</td>\n",
       "      <td>0.20</td>\n",
       "    </tr>\n",
       "    <tr>\n",
       "      <th>3</th>\n",
       "      <td>Llanedyrn</td>\n",
       "      <td>11.5</td>\n",
       "      <td>6.37</td>\n",
       "      <td>5.64</td>\n",
       "      <td>0.16</td>\n",
       "      <td>0.14</td>\n",
       "    </tr>\n",
       "    <tr>\n",
       "      <th>4</th>\n",
       "      <td>Llanedyrn</td>\n",
       "      <td>13.8</td>\n",
       "      <td>7.06</td>\n",
       "      <td>5.34</td>\n",
       "      <td>0.20</td>\n",
       "      <td>0.20</td>\n",
       "    </tr>\n",
       "    <tr>\n",
       "      <th>5</th>\n",
       "      <td>Llanedyrn</td>\n",
       "      <td>10.9</td>\n",
       "      <td>6.26</td>\n",
       "      <td>3.47</td>\n",
       "      <td>0.17</td>\n",
       "      <td>0.22</td>\n",
       "    </tr>\n",
       "    <tr>\n",
       "      <th>6</th>\n",
       "      <td>Llanedyrn</td>\n",
       "      <td>10.1</td>\n",
       "      <td>4.26</td>\n",
       "      <td>4.26</td>\n",
       "      <td>0.20</td>\n",
       "      <td>0.18</td>\n",
       "    </tr>\n",
       "    <tr>\n",
       "      <th>7</th>\n",
       "      <td>Llanedyrn</td>\n",
       "      <td>11.6</td>\n",
       "      <td>5.78</td>\n",
       "      <td>5.91</td>\n",
       "      <td>0.18</td>\n",
       "      <td>0.16</td>\n",
       "    </tr>\n",
       "    <tr>\n",
       "      <th>8</th>\n",
       "      <td>Llanedyrn</td>\n",
       "      <td>11.1</td>\n",
       "      <td>5.49</td>\n",
       "      <td>4.52</td>\n",
       "      <td>0.29</td>\n",
       "      <td>0.30</td>\n",
       "    </tr>\n",
       "    <tr>\n",
       "      <th>9</th>\n",
       "      <td>Llanedyrn</td>\n",
       "      <td>13.4</td>\n",
       "      <td>6.92</td>\n",
       "      <td>7.23</td>\n",
       "      <td>0.28</td>\n",
       "      <td>0.20</td>\n",
       "    </tr>\n",
       "    <tr>\n",
       "      <th>10</th>\n",
       "      <td>Llanedyrn</td>\n",
       "      <td>12.4</td>\n",
       "      <td>6.13</td>\n",
       "      <td>5.69</td>\n",
       "      <td>0.22</td>\n",
       "      <td>0.54</td>\n",
       "    </tr>\n",
       "    <tr>\n",
       "      <th>11</th>\n",
       "      <td>Llanedyrn</td>\n",
       "      <td>13.1</td>\n",
       "      <td>6.64</td>\n",
       "      <td>5.51</td>\n",
       "      <td>0.31</td>\n",
       "      <td>0.24</td>\n",
       "    </tr>\n",
       "    <tr>\n",
       "      <th>12</th>\n",
       "      <td>Llanedyrn</td>\n",
       "      <td>12.7</td>\n",
       "      <td>6.69</td>\n",
       "      <td>4.45</td>\n",
       "      <td>0.20</td>\n",
       "      <td>0.22</td>\n",
       "    </tr>\n",
       "    <tr>\n",
       "      <th>13</th>\n",
       "      <td>Llanedyrn</td>\n",
       "      <td>12.5</td>\n",
       "      <td>6.44</td>\n",
       "      <td>3.94</td>\n",
       "      <td>0.22</td>\n",
       "      <td>0.23</td>\n",
       "    </tr>\n",
       "    <tr>\n",
       "      <th>14</th>\n",
       "      <td>IsleThorns</td>\n",
       "      <td>18.3</td>\n",
       "      <td>1.28</td>\n",
       "      <td>0.67</td>\n",
       "      <td>0.03</td>\n",
       "      <td>0.03</td>\n",
       "    </tr>\n",
       "    <tr>\n",
       "      <th>15</th>\n",
       "      <td>IsleThorns</td>\n",
       "      <td>15.8</td>\n",
       "      <td>2.39</td>\n",
       "      <td>0.63</td>\n",
       "      <td>0.01</td>\n",
       "      <td>0.04</td>\n",
       "    </tr>\n",
       "    <tr>\n",
       "      <th>16</th>\n",
       "      <td>IsleThorns</td>\n",
       "      <td>18.0</td>\n",
       "      <td>1.50</td>\n",
       "      <td>0.67</td>\n",
       "      <td>0.01</td>\n",
       "      <td>0.06</td>\n",
       "    </tr>\n",
       "    <tr>\n",
       "      <th>17</th>\n",
       "      <td>IsleThorns</td>\n",
       "      <td>18.0</td>\n",
       "      <td>1.88</td>\n",
       "      <td>0.68</td>\n",
       "      <td>0.01</td>\n",
       "      <td>0.04</td>\n",
       "    </tr>\n",
       "    <tr>\n",
       "      <th>18</th>\n",
       "      <td>IsleThorns</td>\n",
       "      <td>20.8</td>\n",
       "      <td>1.51</td>\n",
       "      <td>0.72</td>\n",
       "      <td>0.07</td>\n",
       "      <td>0.10</td>\n",
       "    </tr>\n",
       "    <tr>\n",
       "      <th>19</th>\n",
       "      <td>AshleyRails</td>\n",
       "      <td>17.7</td>\n",
       "      <td>1.12</td>\n",
       "      <td>0.56</td>\n",
       "      <td>0.06</td>\n",
       "      <td>0.06</td>\n",
       "    </tr>\n",
       "    <tr>\n",
       "      <th>20</th>\n",
       "      <td>AshleyRails</td>\n",
       "      <td>18.3</td>\n",
       "      <td>1.14</td>\n",
       "      <td>0.67</td>\n",
       "      <td>0.06</td>\n",
       "      <td>0.05</td>\n",
       "    </tr>\n",
       "    <tr>\n",
       "      <th>21</th>\n",
       "      <td>AshleyRails</td>\n",
       "      <td>16.7</td>\n",
       "      <td>0.92</td>\n",
       "      <td>0.53</td>\n",
       "      <td>0.01</td>\n",
       "      <td>0.05</td>\n",
       "    </tr>\n",
       "    <tr>\n",
       "      <th>22</th>\n",
       "      <td>AshleyRails</td>\n",
       "      <td>14.8</td>\n",
       "      <td>2.74</td>\n",
       "      <td>0.67</td>\n",
       "      <td>0.03</td>\n",
       "      <td>0.05</td>\n",
       "    </tr>\n",
       "    <tr>\n",
       "      <th>23</th>\n",
       "      <td>AshleyRails</td>\n",
       "      <td>19.1</td>\n",
       "      <td>1.64</td>\n",
       "      <td>0.60</td>\n",
       "      <td>0.10</td>\n",
       "      <td>0.03</td>\n",
       "    </tr>\n",
       "  </tbody>\n",
       "</table>\n",
       "</div>"
      ],
      "text/plain": [
       "           Site    Al    Fe    Mg    Ca    Na\n",
       "0     Llanedyrn  14.4  7.00  4.30  0.15  0.51\n",
       "1     Llanedyrn  13.8  7.08  3.43  0.12  0.17\n",
       "2     Llanedyrn  14.6  7.09  3.88  0.13  0.20\n",
       "3     Llanedyrn  11.5  6.37  5.64  0.16  0.14\n",
       "4     Llanedyrn  13.8  7.06  5.34  0.20  0.20\n",
       "5     Llanedyrn  10.9  6.26  3.47  0.17  0.22\n",
       "6     Llanedyrn  10.1  4.26  4.26  0.20  0.18\n",
       "7     Llanedyrn  11.6  5.78  5.91  0.18  0.16\n",
       "8     Llanedyrn  11.1  5.49  4.52  0.29  0.30\n",
       "9     Llanedyrn  13.4  6.92  7.23  0.28  0.20\n",
       "10    Llanedyrn  12.4  6.13  5.69  0.22  0.54\n",
       "11    Llanedyrn  13.1  6.64  5.51  0.31  0.24\n",
       "12    Llanedyrn  12.7  6.69  4.45  0.20  0.22\n",
       "13    Llanedyrn  12.5  6.44  3.94  0.22  0.23\n",
       "14   IsleThorns  18.3  1.28  0.67  0.03  0.03\n",
       "15   IsleThorns  15.8  2.39  0.63  0.01  0.04\n",
       "16   IsleThorns  18.0  1.50  0.67  0.01  0.06\n",
       "17   IsleThorns  18.0  1.88  0.68  0.01  0.04\n",
       "18   IsleThorns  20.8  1.51  0.72  0.07  0.10\n",
       "19  AshleyRails  17.7  1.12  0.56  0.06  0.06\n",
       "20  AshleyRails  18.3  1.14  0.67  0.06  0.05\n",
       "21  AshleyRails  16.7  0.92  0.53  0.01  0.05\n",
       "22  AshleyRails  14.8  2.74  0.67  0.03  0.05\n",
       "23  AshleyRails  19.1  1.64  0.60  0.10  0.03"
      ]
     },
     "execution_count": 14,
     "metadata": {},
     "output_type": "execute_result"
    }
   ],
   "source": [
    "# сложный вариант\n",
    "\n",
    "import pandas as pd\n",
    "\n",
    "d = pd.read_csv(\"Pottery.txt\", sep=\" \")\n",
    "d"
   ]
  },
  {
   "cell_type": "code",
   "execution_count": 15,
   "id": "6efd7c9d",
   "metadata": {},
   "outputs": [
    {
     "data": {
      "text/html": [
       "<div>\n",
       "<style scoped>\n",
       "    .dataframe tbody tr th:only-of-type {\n",
       "        vertical-align: middle;\n",
       "    }\n",
       "\n",
       "    .dataframe tbody tr th {\n",
       "        vertical-align: top;\n",
       "    }\n",
       "\n",
       "    .dataframe thead th {\n",
       "        text-align: right;\n",
       "    }\n",
       "</style>\n",
       "<table border=\"1\" class=\"dataframe\">\n",
       "  <thead>\n",
       "    <tr style=\"text-align: right;\">\n",
       "      <th></th>\n",
       "      <th>Site</th>\n",
       "      <th>element</th>\n",
       "      <th>value</th>\n",
       "    </tr>\n",
       "  </thead>\n",
       "  <tbody>\n",
       "    <tr>\n",
       "      <th>0</th>\n",
       "      <td>Llanedyrn</td>\n",
       "      <td>Al</td>\n",
       "      <td>14.4</td>\n",
       "    </tr>\n",
       "    <tr>\n",
       "      <th>1</th>\n",
       "      <td>Llanedyrn</td>\n",
       "      <td>Al</td>\n",
       "      <td>13.8</td>\n",
       "    </tr>\n",
       "    <tr>\n",
       "      <th>2</th>\n",
       "      <td>Llanedyrn</td>\n",
       "      <td>Al</td>\n",
       "      <td>14.6</td>\n",
       "    </tr>\n",
       "    <tr>\n",
       "      <th>3</th>\n",
       "      <td>Llanedyrn</td>\n",
       "      <td>Al</td>\n",
       "      <td>11.5</td>\n",
       "    </tr>\n",
       "    <tr>\n",
       "      <th>4</th>\n",
       "      <td>Llanedyrn</td>\n",
       "      <td>Al</td>\n",
       "      <td>13.8</td>\n",
       "    </tr>\n",
       "  </tbody>\n",
       "</table>\n",
       "</div>"
      ],
      "text/plain": [
       "        Site element  value\n",
       "0  Llanedyrn      Al   14.4\n",
       "1  Llanedyrn      Al   13.8\n",
       "2  Llanedyrn      Al   14.6\n",
       "3  Llanedyrn      Al   11.5\n",
       "4  Llanedyrn      Al   13.8"
      ]
     },
     "execution_count": 15,
     "metadata": {},
     "output_type": "execute_result"
    }
   ],
   "source": [
    "import seaborn as sns\n",
    "\n",
    "# Решейпим именно таким образом\n",
    "\n",
    "d_melt = pd.melt(d, id_vars=['Site'], value_vars=['Al', 'Fe', 'Mg', 'Ca', 'Na'])\n",
    "d_melt.columns = ['Site', 'element', 'value']\n",
    "d_melt.head()"
   ]
  },
  {
   "cell_type": "code",
   "execution_count": 16,
   "id": "b48efa64",
   "metadata": {},
   "outputs": [
    {
     "data": {
      "text/plain": [
       "<AxesSubplot:xlabel='Site', ylabel='value'>"
      ]
     },
     "execution_count": 16,
     "metadata": {},
     "output_type": "execute_result"
    },
    {
     "data": {
      "image/png": "[encoded data removed]",
      "text/plain": [
       "<Figure size 432x288 with 1 Axes>"
      ]
     },
     "metadata": {
      "needs_background": "light"
     },
     "output_type": "display_data"
    }
   ],
   "source": [
    "# сгенерировать коробочную диаграмму, чтобы увидеть распределение данных по культурам и элементам. \n",
    "\n",
    "sns.boxplot(x=\"Site\", y=\"value\", hue=\"element\", data=d_melt, palette=\"Set3\")"
   ]
  },
  {
   "cell_type": "code",
   "execution_count": 17,
   "id": "4c5c5fc1",
   "metadata": {},
   "outputs": [
    {
     "data": {
      "text/html": [
       "<div>\n",
       "<style scoped>\n",
       "    .dataframe tbody tr th:only-of-type {\n",
       "        vertical-align: middle;\n",
       "    }\n",
       "\n",
       "    .dataframe tbody tr th {\n",
       "        vertical-align: top;\n",
       "    }\n",
       "\n",
       "    .dataframe thead th {\n",
       "        text-align: right;\n",
       "    }\n",
       "</style>\n",
       "<table border=\"1\" class=\"dataframe\">\n",
       "  <thead>\n",
       "    <tr style=\"text-align: right;\">\n",
       "      <th></th>\n",
       "      <th>sum_sq</th>\n",
       "      <th>df</th>\n",
       "      <th>F</th>\n",
       "      <th>PR(&gt;F)</th>\n",
       "    </tr>\n",
       "  </thead>\n",
       "  <tbody>\n",
       "    <tr>\n",
       "      <th>C(Site)</th>\n",
       "      <td>20.453021</td>\n",
       "      <td>2.0</td>\n",
       "      <td>14.339403</td>\n",
       "      <td>3.119996e-06</td>\n",
       "    </tr>\n",
       "    <tr>\n",
       "      <th>C(element)</th>\n",
       "      <td>3465.709078</td>\n",
       "      <td>4.0</td>\n",
       "      <td>1214.886458</td>\n",
       "      <td>6.280706e-87</td>\n",
       "    </tr>\n",
       "    <tr>\n",
       "      <th>C(Site):C(element)</th>\n",
       "      <td>373.178442</td>\n",
       "      <td>8.0</td>\n",
       "      <td>65.407890</td>\n",
       "      <td>2.555812e-37</td>\n",
       "    </tr>\n",
       "    <tr>\n",
       "      <th>Residual</th>\n",
       "      <td>74.883429</td>\n",
       "      <td>105.0</td>\n",
       "      <td>NaN</td>\n",
       "      <td>NaN</td>\n",
       "    </tr>\n",
       "  </tbody>\n",
       "</table>\n",
       "</div>"
      ],
      "text/plain": [
       "                         sum_sq     df            F        PR(>F)\n",
       "C(Site)               20.453021    2.0    14.339403  3.119996e-06\n",
       "C(element)          3465.709078    4.0  1214.886458  6.280706e-87\n",
       "C(Site):C(element)   373.178442    8.0    65.407890  2.555812e-37\n",
       "Residual              74.883429  105.0          NaN           NaN"
      ]
     },
     "execution_count": 17,
     "metadata": {},
     "output_type": "execute_result"
    }
   ],
   "source": [
    "import statsmodels.api as sm\n",
    "from statsmodels.formula.api import ols\n",
    "model = ols('value ~ C(Site) + C(element) + C(Site):C(element)', data=d_melt).fit()\n",
    "anova_table = sm.stats.anova_lm(model, typ=2)\n",
    "anova_table"
   ]
  },
  {
   "cell_type": "code",
   "execution_count": 18,
   "id": "0d5c53dc",
   "metadata": {},
   "outputs": [
    {
     "data": {
      "text/html": [
       "<div>\n",
       "<style scoped>\n",
       "    .dataframe tbody tr th:only-of-type {\n",
       "        vertical-align: middle;\n",
       "    }\n",
       "\n",
       "    .dataframe tbody tr th {\n",
       "        vertical-align: top;\n",
       "    }\n",
       "\n",
       "    .dataframe thead th {\n",
       "        text-align: right;\n",
       "    }\n",
       "</style>\n",
       "<table border=\"1\" class=\"dataframe\">\n",
       "  <thead>\n",
       "    <tr style=\"text-align: right;\">\n",
       "      <th></th>\n",
       "      <th>df</th>\n",
       "      <th>sum_sq</th>\n",
       "      <th>mean_sq</th>\n",
       "      <th>F</th>\n",
       "      <th>PR(&gt;F)</th>\n",
       "    </tr>\n",
       "  </thead>\n",
       "  <tbody>\n",
       "    <tr>\n",
       "      <th>C(Site)</th>\n",
       "      <td>2.0</td>\n",
       "      <td>20.453021</td>\n",
       "      <td>10.226511</td>\n",
       "      <td>14.339403</td>\n",
       "      <td>3.119996e-06</td>\n",
       "    </tr>\n",
       "    <tr>\n",
       "      <th>C(element)</th>\n",
       "      <td>4.0</td>\n",
       "      <td>3465.709078</td>\n",
       "      <td>866.427270</td>\n",
       "      <td>1214.886458</td>\n",
       "      <td>6.280706e-87</td>\n",
       "    </tr>\n",
       "    <tr>\n",
       "      <th>C(Site):C(element)</th>\n",
       "      <td>8.0</td>\n",
       "      <td>373.178442</td>\n",
       "      <td>46.647305</td>\n",
       "      <td>65.407890</td>\n",
       "      <td>2.555812e-37</td>\n",
       "    </tr>\n",
       "    <tr>\n",
       "      <th>Residual</th>\n",
       "      <td>105.0</td>\n",
       "      <td>74.883429</td>\n",
       "      <td>0.713176</td>\n",
       "      <td>NaN</td>\n",
       "      <td>NaN</td>\n",
       "    </tr>\n",
       "  </tbody>\n",
       "</table>\n",
       "</div>"
      ],
      "text/plain": [
       "                       df       sum_sq     mean_sq            F        PR(>F)\n",
       "C(Site)               2.0    20.453021   10.226511    14.339403  3.119996e-06\n",
       "C(element)            4.0  3465.709078  866.427270  1214.886458  6.280706e-87\n",
       "C(Site):C(element)    8.0   373.178442   46.647305    65.407890  2.555812e-37\n",
       "Residual            105.0    74.883429    0.713176          NaN           NaN"
      ]
     },
     "execution_count": 18,
     "metadata": {},
     "output_type": "execute_result"
    }
   ],
   "source": [
    "from bioinfokit.analys import stat \n",
    "\n",
    "# ANOVA table using bioinfokit v1.0.3 or later (it uses wrapper script for anova_lm)\n",
    "from bioinfokit.analys import stat\n",
    "res = stat()\n",
    "res.anova_stat(df=d_melt, res_var='value', anova_model='value~C(Site)+C(element)+C(Site):C(element)')\n",
    "res.anova_summary"
   ]
  },
  {
   "cell_type": "markdown",
   "id": "5bed0ad2",
   "metadata": {},
   "source": [
    "Значение p, полученное в результате анализа ANOVA для культуры, элемнтов и взаимодействия, статистически значимо (p<0,05). Мы пришли к выводу, что тип кульуры значительно влияет на количество содержания в нём того или иного элемента.\n",
    "\n",
    "Поскольку взаимодействие значимо, давайте визуализируем график взаимодействия (также называемый графиком профиля)"
   ]
  },
  {
   "cell_type": "code",
   "execution_count": 19,
   "id": "b24298b2",
   "metadata": {},
   "outputs": [
    {
     "data": {
      "image/png": "[encoded data removed]",
      "text/plain": [
       "<Figure size 432x288 with 1 Axes>"
      ]
     },
     "metadata": {
      "needs_background": "light"
     },
     "output_type": "display_data"
    }
   ],
   "source": [
    "from statsmodels.graphics.factorplots import interaction_plot\n",
    "import matplotlib.pyplot as plt\n",
    "fig = interaction_plot(x=d_melt['Site'], trace=d_melt['element'], response=d_melt['value'])\n",
    "plt.show()"
   ]
  },
  {
   "cell_type": "code",
   "execution_count": 20,
   "id": "b7ca54a5",
   "metadata": {},
   "outputs": [
    {
     "name": "stderr",
     "output_type": "stream",
     "text": [
      "/Users/ivanbockov/opt/anaconda3/lib/python3.9/site-packages/bioinfokit/analys.py:402: FutureWarning: Dropping of nuisance columns in DataFrame reductions (with 'numeric_only=None') is deprecated; in a future version this will raise TypeError.  Select only valid columns before calling the reduction.\n",
      "  mult_group[ele] = df[df[xfac_var] == ele].mean().loc[res_var]\n"
     ]
    },
    {
     "data": {
      "text/html": [
       "<div>\n",
       "<style scoped>\n",
       "    .dataframe tbody tr th:only-of-type {\n",
       "        vertical-align: middle;\n",
       "    }\n",
       "\n",
       "    .dataframe tbody tr th {\n",
       "        vertical-align: top;\n",
       "    }\n",
       "\n",
       "    .dataframe thead th {\n",
       "        text-align: right;\n",
       "    }\n",
       "</style>\n",
       "<table border=\"1\" class=\"dataframe\">\n",
       "  <thead>\n",
       "    <tr style=\"text-align: right;\">\n",
       "      <th></th>\n",
       "      <th>group1</th>\n",
       "      <th>group2</th>\n",
       "      <th>Diff</th>\n",
       "      <th>Lower</th>\n",
       "      <th>Upper</th>\n",
       "      <th>q-value</th>\n",
       "      <th>p-value</th>\n",
       "    </tr>\n",
       "  </thead>\n",
       "  <tbody>\n",
       "    <tr>\n",
       "      <th>0</th>\n",
       "      <td>Llanedyrn</td>\n",
       "      <td>IsleThorns</td>\n",
       "      <td>0.713943</td>\n",
       "      <td>0.246132</td>\n",
       "      <td>1.181754</td>\n",
       "      <td>5.131419</td>\n",
       "      <td>0.001276</td>\n",
       "    </tr>\n",
       "    <tr>\n",
       "      <th>1</th>\n",
       "      <td>Llanedyrn</td>\n",
       "      <td>AshleyRails</td>\n",
       "      <td>0.935543</td>\n",
       "      <td>0.467732</td>\n",
       "      <td>1.403354</td>\n",
       "      <td>6.724155</td>\n",
       "      <td>0.001000</td>\n",
       "    </tr>\n",
       "    <tr>\n",
       "      <th>2</th>\n",
       "      <td>IsleThorns</td>\n",
       "      <td>AshleyRails</td>\n",
       "      <td>0.221600</td>\n",
       "      <td>-0.346301</td>\n",
       "      <td>0.789501</td>\n",
       "      <td>1.312023</td>\n",
       "      <td>0.614475</td>\n",
       "    </tr>\n",
       "  </tbody>\n",
       "</table>\n",
       "</div>"
      ],
      "text/plain": [
       "       group1       group2      Diff     Lower     Upper   q-value   p-value\n",
       "0   Llanedyrn   IsleThorns  0.713943  0.246132  1.181754  5.131419  0.001276\n",
       "1   Llanedyrn  AshleyRails  0.935543  0.467732  1.403354  6.724155  0.001000\n",
       "2  IsleThorns  AshleyRails  0.221600 -0.346301  0.789501  1.312023  0.614475"
      ]
     },
     "execution_count": 20,
     "metadata": {},
     "output_type": "execute_result"
    }
   ],
   "source": [
    "# we will use bioinfokit (v1.0.3 or later) for performing tukey HSD test\n",
    "# check documentation here https://github.com/reneshbedre/bioinfokit\n",
    "from bioinfokit.analys import stat\n",
    "# perform multiple pairwise comparison (Tukey HSD)\n",
    "# unequal sample size data, tukey_hsd uses Tukey-Kramer test\n",
    "res = stat()\n",
    "# for main effect Genotype\n",
    "res.tukey_hsd(df=d_melt, res_var='value', xfac_var='Site', anova_model='value~C(Site)+C(element)+C(Site):C(element)')\n",
    "res.tukey_summary"
   ]
  },
  {
   "cell_type": "markdown",
   "id": "4a567f67",
   "metadata": {},
   "source": [
    "### 7. В файле Memory.txt содержится информация об исследовании памяти у молодых и пожилых лю- дей. Каждому участнику давали одно из пяти упражнений: а) Counting – подсчитать число букв в каждом из слов б) Rhyming – придумать рифму к каждому из слов в) Adjective – подобрать прилагательное к каждому слову г) Imagery – представить изображение предмета д) Intentional – запомнить слова. После 27 таких слов участников попросили вспомнить слова. В таблице при- ведено количество успехов в каждом из испытаний. Проверить гипотезу о том, что а) возраст б) вид упражнения не влияет на успешность прохождения теста. Построить boxplot для визуальной проверки."
   ]
  },
  {
   "cell_type": "code",
   "execution_count": 21,
   "id": "77e3352f",
   "metadata": {
    "scrolled": false
   },
   "outputs": [
    {
     "name": "stdout",
     "output_type": "stream",
     "text": [
      "['Younger', 'Counting', '8.0']\n",
      "['Younger', 'Counting', '6.0']\n",
      "['Younger', 'Counting', '4.0']\n",
      "['Younger', 'Counting', '6.0']\n",
      "['Younger', 'Counting', '7.0']\n",
      "['Younger', 'Counting', '6.0']\n",
      "['Younger', 'Counting', '5.0']\n",
      "['Younger', 'Counting', '7.0']\n",
      "['Younger', 'Counting', '9.0']\n",
      "['Younger', 'Counting', '7.0']\n",
      "['Younger', 'Rhyming', '10.0']\n",
      "['Younger', 'Rhyming', '7.0']\n",
      "['Younger', 'Rhyming', '8.0']\n",
      "['Younger', 'Rhyming', '10.0']\n",
      "['Younger', 'Rhyming', '4.0']\n",
      "['Younger', 'Rhyming', '7.0']\n",
      "['Younger', 'Rhyming', '10.0']\n",
      "['Younger', 'Rhyming', '6.0']\n",
      "['Younger', 'Rhyming', '7.0']\n",
      "['Younger', 'Rhyming', '7.0']\n",
      "['Younger', 'Adjective', '14.0']\n",
      "['Younger', 'Adjective', '11.0']\n",
      "['Younger', 'Adjective', '18.0']\n",
      "['Younger', 'Adjective', '14.0']\n",
      "['Younger', 'Adjective', '13.0']\n",
      "['Younger', 'Adjective', '22.0']\n",
      "['Younger', 'Adjective', '17.0']\n",
      "['Younger', 'Adjective', '16.0']\n",
      "['Younger', 'Adjective', '12.0']\n",
      "['Younger', 'Adjective', '11.0']\n",
      "['Younger', 'Imagery', '20.0']\n",
      "['Younger', 'Imagery', '16.0']\n",
      "['Younger', 'Imagery', '16.0']\n",
      "['Younger', 'Imagery', '15.0']\n",
      "['Younger', 'Imagery', '18.0']\n",
      "['Younger', 'Imagery', '16.0']\n",
      "['Younger', 'Imagery', '20.0']\n",
      "['Younger', 'Imagery', '22.0']\n",
      "['Younger', 'Imagery', '14.0']\n",
      "['Younger', 'Imagery', '19.0']\n",
      "['Younger', 'Intentional', '21.0']\n",
      "['Younger', 'Intentional', '19.0']\n",
      "['Younger', 'Intentional', '17.0']\n",
      "['Younger', 'Intentional', '15.0']\n",
      "['Younger', 'Intentional', '22.0']\n",
      "['Younger', 'Intentional', '16.0']\n",
      "['Younger', 'Intentional', '22.0']\n",
      "['Younger', 'Intentional', '22.0']\n",
      "['Younger', 'Intentional', '18.0']\n",
      "['Younger', 'Intentional', '21.0']\n",
      "['Older', 'Counting', '9.0']\n",
      "['Older', 'Counting', '8.0']\n",
      "['Older', 'Counting', '6.0']\n",
      "['Older', 'Counting', '8.0']\n",
      "['Older', 'Counting', '10.0']\n",
      "['Older', 'Counting', '4.0']\n",
      "['Older', 'Counting', '6.0']\n",
      "['Older', 'Counting', '5.0']\n",
      "['Older', 'Counting', '7.0']\n",
      "['Older', 'Counting', '7.0']\n",
      "['Older', 'Rhyming', '7.0']\n",
      "['Older', 'Rhyming', '9.0']\n",
      "['Older', 'Rhyming', '6.0']\n",
      "['Older', 'Rhyming', '6.0']\n",
      "['Older', 'Rhyming', '6.0']\n",
      "['Older', 'Rhyming', '11.0']\n",
      "['Older', 'Rhyming', '6.0']\n",
      "['Older', 'Rhyming', '3.0']\n",
      "['Older', 'Rhyming', '8.0']\n",
      "['Older', 'Rhyming', '7.0']\n",
      "['Older', 'Adjective', '11.0']\n",
      "['Older', 'Adjective', '13.0']\n",
      "['Older', 'Adjective', '8.0']\n",
      "['Older', 'Adjective', '6.0']\n",
      "['Older', 'Adjective', '14.0']\n",
      "['Older', 'Adjective', '11.0']\n",
      "['Older', 'Adjective', '13.0']\n",
      "['Older', 'Adjective', '13.0']\n",
      "['Older', 'Adjective', '10.0']\n",
      "['Older', 'Adjective', '11.0']\n",
      "['Older', 'Imagery', '12.0']\n",
      "['Older', 'Imagery', '11.0']\n",
      "['Older', 'Imagery', '16.0']\n",
      "['Older', 'Imagery', '11.0']\n",
      "['Older', 'Imagery', '9.0']\n",
      "['Older', 'Imagery', '23.0']\n",
      "['Older', 'Imagery', '12.0']\n",
      "['Older', 'Imagery', '10.0']\n",
      "['Older', 'Imagery', '19.0']\n",
      "['Older', 'Imagery', '11.0']\n",
      "['Older', 'Intentional', '10.0']\n",
      "['Older', 'Intentional', '19.0']\n",
      "['Older', 'Intentional', '14.0']\n",
      "['Older', 'Intentional', '5.0']\n",
      "['Older', 'Intentional', '10.0']\n",
      "['Older', 'Intentional', '11.0']\n",
      "['Older', 'Intentional', '14.0']\n",
      "['Older', 'Intentional', '15.0']\n",
      "['Older', 'Intentional', '11.0']\n",
      "['Older', 'Intentional', '11.0']\n"
     ]
    }
   ],
   "source": [
    "younger = []\n",
    "older = []\n",
    "\n",
    "with open(\"Memory.txt\") as file:\n",
    "    first_row = file.readline()\n",
    "    for line in file:\n",
    "        temp = line.split()\n",
    "        print(temp)\n",
    "        \n",
    "        if temp[0] == \"Younger\":\n",
    "            younger.append(float(temp[2]))\n",
    "        else:\n",
    "            older.append(float(temp[2]))"
   ]
  },
  {
   "cell_type": "code",
   "execution_count": 29,
   "id": "2f196f22",
   "metadata": {},
   "outputs": [
    {
     "name": "stdout",
     "output_type": "stream",
     "text": [
      "Выборки однороды => возраст не влияет\n",
      "0.9803921568627451 > 0.05\n"
     ]
    }
   ],
   "source": [
    "# Проверим выборки на однородность\n",
    "\n",
    "alpha = 0.05\n",
    "\n",
    "pvalue = ks_2samp(younger, older, alternative='greater')[1]\n",
    "\n",
    "if pvalue > alpha:\n",
    "    print(\"Выборки однороды => возраст не влияет\")\n",
    "    print(f\"{pvalue} > {alpha}\")\n",
    "else:\n",
    "    print(\"Выборки неоднородны => возраст влияет\")\n",
    "    print(f\"{pvalue} < {alpha}\")"
   ]
  },
  {
   "cell_type": "code",
   "execution_count": 23,
   "id": "7721abc9",
   "metadata": {},
   "outputs": [
    {
     "data": {
      "image/png": "[encoded data removed]",
      "text/plain": [
       "<Figure size 432x288 with 1 Axes>"
      ]
     },
     "metadata": {
      "needs_background": "light"
     },
     "output_type": "display_data"
    }
   ],
   "source": [
    "data1 = [younger, older]\n",
    "plt.boxplot(data1)\n",
    "plt.show()"
   ]
  },
  {
   "cell_type": "code",
   "execution_count": 24,
   "id": "a5b3fc37",
   "metadata": {
    "scrolled": false
   },
   "outputs": [],
   "source": [
    "counting = []\n",
    "rhyming = []\n",
    "adjective = []\n",
    "imagery = []\n",
    "intentional = []\n",
    "\n",
    "with open(\"Memory.txt\") as file:\n",
    "    first_row = file.readline()\n",
    "    for line in file:\n",
    "        temp = line.split()\n",
    "        \n",
    "        if temp[1] == \"Counting\":\n",
    "            counting.append(float(temp[2]))\n",
    "        elif temp[1] == \"Rhyming\":\n",
    "            rhyming.append(float(temp[2]))\n",
    "        elif temp[1] == \"Adjective\":\n",
    "            adjective.append(float(temp[2]))\n",
    "        elif temp[1] == \"Imagery\":\n",
    "            imagery.append(float(temp[2]))\n",
    "        else:\n",
    "            intentional.append(float(temp[2]))"
   ]
  },
  {
   "cell_type": "code",
   "execution_count": 25,
   "id": "c8d127f2",
   "metadata": {},
   "outputs": [
    {
     "name": "stdout",
     "output_type": "stream",
     "text": [
      "Выборки не однородны => задание влияет\n",
      "0.001 < 0.05\n"
     ]
    },
    {
     "name": "stderr",
     "output_type": "stream",
     "text": [
      "/var/folders/sv/b5zr3x594nqfqz1f1_pgq6f00000gn/T/ipykernel_74501/1462237917.py:1: UserWarning: p-value floored: true value smaller than 0.001\n",
      "  pvalue = anderson_ksamp([counting, rhyming, adjective, imagery, intentional])[2]\n"
     ]
    }
   ],
   "source": [
    "pvalue = anderson_ksamp([counting, rhyming, adjective, imagery, intentional])[2]\n",
    "\n",
    "if pvalue > alpha:\n",
    "    print(\"Выборки однородны => задание не влияет\")\n",
    "    print(f\"{pvalue} > {alpha}\")\n",
    "else:\n",
    "    print(\"Выборки не однородны => задание влияет\")\n",
    "    print(f\"{pvalue} < {alpha}\")"
   ]
  },
  {
   "cell_type": "code",
   "execution_count": 26,
   "id": "b3e0d3d7",
   "metadata": {},
   "outputs": [
    {
     "data": {
      "image/png": "[encoded data removed]",
      "text/plain": [
       "<Figure size 432x288 with 1 Axes>"
      ]
     },
     "metadata": {
      "needs_background": "light"
     },
     "output_type": "display_data"
    }
   ],
   "source": [
    "data2 = [counting, rhyming, adjective, imagery, intentional]\n",
    "plt.boxplot(data2)\n",
    "plt.show()"
   ]
  },
  {
   "attachments": {
    "image.png": {
     "image/png": "[encoded data removed]"
    }
   },
   "cell_type": "markdown",
   "id": "549712d5",
   "metadata": {},
   "source": [
    "![image.png](attachment:image.png)"
   ]
  },
  {
   "cell_type": "markdown",
   "id": "de8c4160",
   "metadata": {},
   "source": [
    "### 6. В файле Pottery.txt содержится информация о содержании химических элементов в изделиях трех различных культур. Исследовать выборки а) на однородность б) на равенство средних. Произвести покомпонентный визуальный анализ."
   ]
  },
  {
   "cell_type": "code",
   "execution_count": 31,
   "id": "c114c31c",
   "metadata": {
    "scrolled": false
   },
   "outputs": [
    {
     "name": "stdout",
     "output_type": "stream",
     "text": [
      "Выборки не однородны => содержание Al зависит от культуры\n",
      "0.001 < 0.05\n"
     ]
    },
    {
     "name": "stderr",
     "output_type": "stream",
     "text": [
      "/var/folders/sv/b5zr3x594nqfqz1f1_pgq6f00000gn/T/ipykernel_74501/2456089406.py:24: UserWarning: p-value floored: true value smaller than 0.001\n",
      "  pvalue = anderson_ksamp([Llanedyrn, IsleThorns, AshleyRails])[2]\n"
     ]
    },
    {
     "data": {
      "image/png": "[encoded data removed]",
      "text/plain": [
       "<Figure size 432x288 with 1 Axes>"
      ]
     },
     "metadata": {
      "needs_background": "light"
     },
     "output_type": "display_data"
    },
    {
     "name": "stdout",
     "output_type": "stream",
     "text": [
      "Выборки не однородны => содержание Fe зависит от культуры\n",
      "0.001 < 0.05\n"
     ]
    },
    {
     "name": "stderr",
     "output_type": "stream",
     "text": [
      "/var/folders/sv/b5zr3x594nqfqz1f1_pgq6f00000gn/T/ipykernel_74501/2456089406.py:24: UserWarning: p-value floored: true value smaller than 0.001\n",
      "  pvalue = anderson_ksamp([Llanedyrn, IsleThorns, AshleyRails])[2]\n"
     ]
    },
    {
     "data": {
      "image/png": "[encoded data removed]",
      "text/plain": [
       "<Figure size 432x288 with 1 Axes>"
      ]
     },
     "metadata": {
      "needs_background": "light"
     },
     "output_type": "display_data"
    },
    {
     "name": "stderr",
     "output_type": "stream",
     "text": [
      "/var/folders/sv/b5zr3x594nqfqz1f1_pgq6f00000gn/T/ipykernel_74501/2456089406.py:24: UserWarning: p-value floored: true value smaller than 0.001\n",
      "  pvalue = anderson_ksamp([Llanedyrn, IsleThorns, AshleyRails])[2]\n"
     ]
    },
    {
     "name": "stdout",
     "output_type": "stream",
     "text": [
      "Выборки не однородны => содержание Mg зависит от культуры\n",
      "0.001 < 0.05\n"
     ]
    },
    {
     "data": {
      "image/png": "[encoded data removed]",
      "text/plain": [
       "<Figure size 432x288 with 1 Axes>"
      ]
     },
     "metadata": {
      "needs_background": "light"
     },
     "output_type": "display_data"
    },
    {
     "name": "stderr",
     "output_type": "stream",
     "text": [
      "/var/folders/sv/b5zr3x594nqfqz1f1_pgq6f00000gn/T/ipykernel_74501/2456089406.py:24: UserWarning: p-value floored: true value smaller than 0.001\n",
      "  pvalue = anderson_ksamp([Llanedyrn, IsleThorns, AshleyRails])[2]\n"
     ]
    },
    {
     "name": "stdout",
     "output_type": "stream",
     "text": [
      "Выборки не однородны => содержание Ca зависит от культуры\n",
      "0.001 < 0.05\n"
     ]
    },
    {
     "data": {
      "image/png": "[encoded data removed]",
      "text/plain": [
       "<Figure size 432x288 with 1 Axes>"
      ]
     },
     "metadata": {
      "needs_background": "light"
     },
     "output_type": "display_data"
    },
    {
     "name": "stderr",
     "output_type": "stream",
     "text": [
      "/var/folders/sv/b5zr3x594nqfqz1f1_pgq6f00000gn/T/ipykernel_74501/2456089406.py:24: UserWarning: p-value floored: true value smaller than 0.001\n",
      "  pvalue = anderson_ksamp([Llanedyrn, IsleThorns, AshleyRails])[2]\n"
     ]
    },
    {
     "name": "stdout",
     "output_type": "stream",
     "text": [
      "Выборки не однородны => содержание Na зависит от культуры\n",
      "0.001 < 0.05\n"
     ]
    },
    {
     "data": {
      "image/png": "[encoded data removed]",
      "text/plain": [
       "<Figure size 432x288 with 1 Axes>"
      ]
     },
     "metadata": {
      "needs_background": "light"
     },
     "output_type": "display_data"
    }
   ],
   "source": [
    "# проверка на однородность + boxplot\n",
    "\n",
    "words = ['Al', 'Fe', 'Mg', 'Ca', 'Na']\n",
    "\n",
    "for i in range(5):\n",
    "    \n",
    "    Llanedyrn = []\n",
    "    IsleThorns = []\n",
    "    AshleyRails = []\n",
    "\n",
    "    with open(\"Pottery.txt\") as file:\n",
    "        first_row = file.readline()\n",
    "\n",
    "        for line in file:\n",
    "            temp = line.split()\n",
    "\n",
    "            if temp[0] == '\"Llanedyrn\"':\n",
    "                Llanedyrn.append(float(temp[i + 1]))\n",
    "            elif temp[0] == '\"IsleThorns\"':\n",
    "                IsleThorns.append(float(temp[i + 1]))\n",
    "            else:\n",
    "                AshleyRails.append(float(temp[i + 1]))\n",
    "\n",
    "    pvalue = anderson_ksamp([Llanedyrn, IsleThorns, AshleyRails])[2]\n",
    "\n",
    "    if pvalue > alpha:\n",
    "        print(f\"Выборки однородны => содержание {words[i]} не зависит от культуры\")\n",
    "        print(f\"{pvalue} > {alpha}\")\n",
    "    else:\n",
    "        print(f\"Выборки не однородны => содержание {words[i]} зависит от культуры\")\n",
    "        print(f\"{pvalue} < {alpha}\")\n",
    "\n",
    "    data = [Llanedyrn, IsleThorns, AshleyRails]\n",
    "    plt.boxplot(data)\n",
    "    plt.show()"
   ]
  },
  {
   "cell_type": "code",
   "execution_count": 28,
   "id": "5089b304",
   "metadata": {},
   "outputs": [
    {
     "name": "stdout",
     "output_type": "stream",
     "text": [
      "Для Al\n",
      "Для Llanedyrn и IsleThorns\n",
      "Выборки НЕ однородны\n",
      "1.2841293200443665e-06 < 0.05\n",
      "\n",
      "Для Llanedyrn и AshleyRails\n",
      "Выборки НЕ однородны\n",
      "7.947340770596518e-06 < 0.05\n",
      "\n",
      "Для IsleThorns и AshleyRails\n",
      "Выборки однородны\n",
      "0.45152018631860136 > 0.05\n",
      "\n",
      "Для Fe\n",
      "Для Llanedyrn и IsleThorns\n",
      "Выборки НЕ однородны\n",
      "5.755984423221524e-10 < 0.05\n",
      "\n",
      "Для Llanedyrn и AshleyRails\n",
      "Выборки НЕ однородны\n",
      "9.446533532571065e-10 < 0.05\n",
      "\n",
      "Для IsleThorns и AshleyRails\n",
      "Выборки однородны\n",
      "0.6152903143601238 > 0.05\n",
      "\n",
      "Для Mg\n",
      "Для Llanedyrn и IsleThorns\n",
      "Выборки НЕ однородны\n",
      "1.9474297388248876e-07 < 0.05\n",
      "\n",
      "Для Llanedyrn и AshleyRails\n",
      "Выборки НЕ однородны\n",
      "1.5624222508012908e-07 < 0.05\n",
      "\n",
      "Для IsleThorns и AshleyRails\n",
      "Выборки однородны\n",
      "0.06502284140230587 > 0.05\n",
      "\n",
      "Для Ca\n",
      "Для Llanedyrn и IsleThorns\n",
      "Выборки НЕ однородны\n",
      "6.025350495377847e-06 < 0.05\n",
      "\n",
      "Для Llanedyrn и AshleyRails\n",
      "Выборки НЕ однородны\n",
      "4.951809486880811e-05 < 0.05\n",
      "\n",
      "Для IsleThorns и AshleyRails\n",
      "Выборки однородны\n",
      "0.2134526074223702 > 0.05\n",
      "\n",
      "Для Na\n",
      "Для Llanedyrn и IsleThorns\n",
      "Выборки НЕ однородны\n",
      "0.00278453356229133 < 0.05\n",
      "\n",
      "Для Llanedyrn и AshleyRails\n",
      "Выборки НЕ однородны\n",
      "0.0020969727599973237 < 0.05\n",
      "\n",
      "Для IsleThorns и AshleyRails\n",
      "Выборки однородны\n",
      "0.6665811073830705 > 0.05\n",
      "\n"
     ]
    }
   ],
   "source": [
    "# проверка на равенство средних + можно увидеть на boxplotах\n",
    "\n",
    "words = ['Al', 'Fe', 'Mg', 'Ca', 'Na']\n",
    "\n",
    "for i in range(5):\n",
    "    \n",
    "    Llanedyrn = []\n",
    "    IsleThorns = []\n",
    "    AshleyRails = []\n",
    "\n",
    "    with open(\"Pottery.txt\") as file:\n",
    "        first_row = file.readline()\n",
    "\n",
    "        for line in file:\n",
    "            temp = line.split()\n",
    "\n",
    "            if temp[0] == '\"Llanedyrn\"':\n",
    "                Llanedyrn.append(float(temp[i + 1]))\n",
    "            elif temp[0] == '\"IsleThorns\"':\n",
    "                IsleThorns.append(float(temp[i + 1]))\n",
    "            else:\n",
    "                AshleyRails.append(float(temp[i + 1]))\n",
    "                \n",
    "    res1 = ttest_ind(Llanedyrn, IsleThorns)[1]\n",
    "    res2 = ttest_ind(Llanedyrn, AshleyRails)[1]\n",
    "    res3 = ttest_ind(IsleThorns, AshleyRails)[1]\n",
    "    \n",
    "    print(f\"Для {words[i]}\")\n",
    "    \n",
    "    print(f\"Для Llanedyrn и IsleThorns\")\n",
    "    if res1 > alpha:\n",
    "        print(f\"Выборки однородны\")\n",
    "        print(f\"{res1} > {alpha}\")\n",
    "    else:\n",
    "        print(f\"Выборки НЕ однородны\") \n",
    "        print(f\"{res1} < {alpha}\")\n",
    "        \n",
    "    print()\n",
    "    \n",
    "    print(f\"Для Llanedyrn и AshleyRails\")\n",
    "    if res2 > alpha:\n",
    "        print(f\"Выборки однородны\")\n",
    "        print(f\"{res2} > {alpha}\")\n",
    "    else:\n",
    "        print(f\"Выборки НЕ однородны\") \n",
    "        print(f\"{res2} < {alpha}\")\n",
    "        \n",
    "    print()\n",
    "    \n",
    "    print(f\"Для IsleThorns и AshleyRails\")\n",
    "    if res3 > alpha:\n",
    "        print(f\"Выборки однородны\")\n",
    "        print(f\"{res3} > {alpha}\")\n",
    "    else:\n",
    "        print(f\"Выборки НЕ однородны\") \n",
    "        print(f\"{res3} < {alpha}\")\n",
    "        \n",
    "    print()"
   ]
  },
  {
   "cell_type": "code",
   "execution_count": 33,
   "id": "eaac1766",
   "metadata": {},
   "outputs": [
    {
     "name": "stdout",
     "output_type": "stream",
     "text": [
      "0.06362256875588683\n"
     ]
    }
   ],
   "source": [
    "mg = []\n",
    "fe = []\n",
    "\n",
    "with open(\"Pottery.txt\") as file:\n",
    "        first_row = file.readline()\n",
    "\n",
    "        for line in file:\n",
    "            temp = line.split()\n",
    "            \n",
    "            fe.append(float(temp[2]))\n",
    "            mg.append(float(temp[3]))\n",
    "            \n",
    "res4 = ttest_ind(fe, mg)[1]\n",
    "print(res4)"
   ]
  },
  {
   "cell_type": "code",
   "execution_count": 54,
   "id": "bee1df97",
   "metadata": {
    "scrolled": false
   },
   "outputs": [],
   "source": [
    "dem = []\n",
    "resp = []\n",
    "\n",
    "beg = []\n",
    "star = []\n",
    "\n",
    "near = []\n",
    "far = []\n",
    "\n",
    "with open('impeach.txt') as file:\n",
    "    for line in file:\n",
    "        temp = line.split()\n",
    "        \n",
    "        if temp[5] == '0':\n",
    "            dem.append(float(temp[4]))\n",
    "        else:\n",
    "            resp.append(float(temp[4]))\n",
    "            \n",
    "        if temp[9] == '1':\n",
    "            beg.append(float(temp[4]))\n",
    "        else:\n",
    "            star.append(float(temp[4]))\n",
    "            \n",
    "        if float(temp[7]) > 50:\n",
    "            near.append(float(temp[4]))\n",
    "        else:\n",
    "            far.append(float(temp[4]))"
   ]
  },
  {
   "cell_type": "code",
   "execution_count": 38,
   "id": "650820b2",
   "metadata": {},
   "outputs": [
    {
     "name": "stdout",
     "output_type": "stream",
     "text": [
      "6.341318150874907e-34\n",
      "0.06053719120094552\n",
      "1.4872359585613473e-07\n"
     ]
    }
   ],
   "source": [
    "res1 = ttest_ind(dem, resp)[1]\n",
    "print(res1)\n",
    "\n",
    "res2 = ttest_ind(beg, star)[1]\n",
    "print(res2)\n",
    "\n",
    "res3 = ttest_ind(near, far)[1]\n",
    "print(res3)"
   ]
  },
  {
   "cell_type": "code",
   "execution_count": 42,
   "id": "4381c267",
   "metadata": {},
   "outputs": [
    {
     "data": {
      "image/png": "[encoded data removed]",
      "text/plain": [
       "<Figure size 432x288 with 1 Axes>"
      ]
     },
     "metadata": {
      "needs_background": "light"
     },
     "output_type": "display_data"
    }
   ],
   "source": [
    "plt.hist(dem)\n",
    "plt.hist(resp)\n",
    "plt.show()"
   ]
  },
  {
   "cell_type": "code",
   "execution_count": 50,
   "id": "2f0953b9",
   "metadata": {},
   "outputs": [
    {
     "data": {
      "image/png": "[encoded data removed]",
      "text/plain": [
       "<Figure size 432x288 with 1 Axes>"
      ]
     },
     "metadata": {
      "needs_background": "light"
     },
     "output_type": "display_data"
    }
   ],
   "source": [
    "plt.hist(beg, color='red')\n",
    "plt.hist(star, alpha=0.5)\n",
    "plt.show()"
   ]
  },
  {
   "cell_type": "code",
   "execution_count": 53,
   "id": "210dcdb8",
   "metadata": {},
   "outputs": [
    {
     "data": {
      "image/png": "[encoded data removed]",
      "text/plain": [
       "<Figure size 432x288 with 1 Axes>"
      ]
     },
     "metadata": {
      "needs_background": "light"
     },
     "output_type": "display_data"
    }
   ],
   "source": [
    "plt.hist(near, color='red')\n",
    "plt.hist(far, alpha=0.5)\n",
    "plt.show()"
   ]
  }
 ],
 "metadata": {
  "kernelspec": {
   "display_name": "Python 3 (ipykernel)",
   "language": "python",
   "name": "python3"
  },
  "language_info": {
   "codemirror_mode": {
    "name": "ipython",
    "version": 3
   },
   "file_extension": ".py",
   "mimetype": "text/x-python",
   "name": "python",
   "nbconvert_exporter": "python",
   "pygments_lexer": "ipython3",
   "version": "3.9.12"
  },
  "vscode": {
   "interpreter": {
    "hash": "9fd9df06f510767de73a0a3d31115cdb144869431e58fdc65644356575496e3c"
   }
  }
 },
 "nbformat": 4,
 "nbformat_minor": 5
}
